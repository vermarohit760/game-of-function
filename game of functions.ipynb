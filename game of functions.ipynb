{
 "cells": [
  {
   "cell_type": "code",
   "execution_count": 2,
   "id": "b38bc07e",
   "metadata": {},
   "outputs": [
    {
     "name": "stdout",
     "output_type": "stream",
     "text": [
      "the sum of of list is:-> 20\n"
     ]
    }
   ],
   "source": [
    "'''Write a Python function to sum all the numbers in a list.\n",
    "sample List : (8, 2, 3, 0, 7)\n",
    "\n",
    "Expected Output : 20'''\n",
    "def sum_list(x):\n",
    "    sum_of_list=sum(x)\n",
    "    return sum_of_list\n",
    "list1=[8,2,3,0,7]\n",
    "print('the sum of list is:->',sum_list(list1))"
   ]
  },
  {
   "cell_type": "code",
   "execution_count": 3,
   "id": "8819f2e1",
   "metadata": {},
   "outputs": [
    {
     "name": "stdout",
     "output_type": "stream",
     "text": [
      "the sum of list is:-> 20\n"
     ]
    }
   ],
   "source": [
    "def sum_list(x):\n",
    "    sum1=0\n",
    "    for i in x:\n",
    "        sum1=sum1+i\n",
    "    return sum1\n",
    "list1=[8,2,3,0,7]\n",
    "print('the sum of list is:->',sum_list(list1))\n",
    "        "
   ]
  },
  {
   "cell_type": "code",
   "execution_count": null,
   "id": "e424d177",
   "metadata": {},
   "outputs": [],
   "source": []
  }
 ],
 "metadata": {
  "kernelspec": {
   "display_name": "Python 3 (ipykernel)",
   "language": "python",
   "name": "python3"
  },
  "language_info": {
   "codemirror_mode": {
    "name": "ipython",
    "version": 3
   },
   "file_extension": ".py",
   "mimetype": "text/x-python",
   "name": "python",
   "nbconvert_exporter": "python",
   "pygments_lexer": "ipython3",
   "version": "3.9.6"
  }
 },
 "nbformat": 4,
 "nbformat_minor": 5
}
